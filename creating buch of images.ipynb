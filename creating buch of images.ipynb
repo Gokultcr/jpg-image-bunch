{
 "cells": [
  {
   "cell_type": "code",
   "execution_count": 10,
   "id": "106ce216",
   "metadata": {},
   "outputs": [
    {
     "data": {
      "text/plain": [
       "['tree_images.joblib']"
      ]
     },
     "execution_count": 10,
     "metadata": {},
     "output_type": "execute_result"
    }
   ],
   "source": [
    "import os\n",
    "import numpy as np\n",
    "import joblib\n",
    "import cv2\n",
    "dire = \"D:/Individual_Trees_photos/exatctcrop\"\n",
    "categories = ['European beech', 'European silver fir', 'Norway spruce', 'Sessile oak']\n",
    "\n",
    "SIZE = 200\n",
    "images = []\n",
    "labels = []\n",
    "\n",
    "for category in categories:\n",
    "    path = os.path.join(dire, category)\n",
    "    label = categories.index(category)\n",
    "    \n",
    "    for img in os.listdir(path):\n",
    "        imgpath = os.path.join(path, img)\n",
    "        tree_img = cv2.imread(imgpath, 0)\n",
    "        try:\n",
    "            tree_img = cv2.resize(tree_img, (SIZE, SIZE))\n",
    "            images.append(tree_img)\n",
    "            labels.append(label)\n",
    "        except Exception as e:\n",
    "            pass\n",
    "\n",
    "# Convert the image and label data to NumPy arrays\n",
    "images = np.array(images)\n",
    "labels = np.array(labels)\n",
    "\n",
    "# Store the feature names and target names\n",
    "feature_names = ['images']\n",
    "target_names = categories\n",
    "\n",
    "# Create a Bunch object to store the data\n",
    "data = {}\n",
    "data[\"data\"] = images\n",
    "data[\"target\"] = labels\n",
    "data[\"feature_names\"] = feature_names\n",
    "data[\"target_names\"] = target_names\n",
    "\n",
    "# Save the Bunch object to disk\n",
    "joblib.dump(data, 'tree_images.joblib')\n",
    "\n"
   ]
  },
  {
   "cell_type": "code",
   "execution_count": null,
   "id": "9fb530db",
   "metadata": {},
   "outputs": [],
   "source": [
    "\n"
   ]
  },
  {
   "cell_type": "code",
   "execution_count": null,
   "id": "3af90fb7",
   "metadata": {},
   "outputs": [],
   "source": []
  }
 ],
 "metadata": {
  "kernelspec": {
   "display_name": "Python 3 (ipykernel)",
   "language": "python",
   "name": "python3"
  },
  "language_info": {
   "codemirror_mode": {
    "name": "ipython",
    "version": 3
   },
   "file_extension": ".py",
   "mimetype": "text/x-python",
   "name": "python",
   "nbconvert_exporter": "python",
   "pygments_lexer": "ipython3",
   "version": "3.9.16"
  }
 },
 "nbformat": 4,
 "nbformat_minor": 5
}
